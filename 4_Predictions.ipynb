{
 "cells": [
  {
   "cell_type": "markdown",
   "metadata": {},
   "source": [
    "# Predictions\n",
    "\n",
    "I will use this notebook to input, process and create predictions on 2018 data. Next I will create a series of CSV files to use in a GIS analysis of the data."
   ]
  },
  {
   "cell_type": "markdown",
   "metadata": {},
   "source": [
    "- [Imports](#imports)\n",
    "- [2018 data](#data)\n",
    "    - [Predictions](#predictions)\n",
    "- [GIS Analysis files](#gis)"
   ]
  },
  {
   "cell_type": "markdown",
   "metadata": {},
   "source": [
    "# Imports <a id=imports></a>"
   ]
  },
  {
   "cell_type": "code",
   "execution_count": 1,
   "metadata": {
    "execution": {
     "iopub.execute_input": "2020-09-03T17:05:04.086712Z",
     "iopub.status.busy": "2020-09-03T17:05:04.086394Z",
     "iopub.status.idle": "2020-09-03T17:05:06.395052Z",
     "shell.execute_reply": "2020-09-03T17:05:06.394177Z",
     "shell.execute_reply.started": "2020-09-03T17:05:04.086687Z"
    }
   },
   "outputs": [],
   "source": [
    "import pandas as pd\n",
    "import numpy as np\n",
    "import pickle\n",
    "from sklearn.preprocessing import StandardScaler\n",
    "\n",
    "import autoreload\n",
    "%load_ext autoreload\n",
    "%autoreload 2\n",
    "import python_code.Scripts as sc\n",
    "import python_code.Reference as ref"
   ]
  },
  {
   "cell_type": "code",
   "execution_count": 2,
   "metadata": {
    "execution": {
     "iopub.execute_input": "2020-09-03T17:05:06.398074Z",
     "iopub.status.busy": "2020-09-03T17:05:06.396719Z",
     "iopub.status.idle": "2020-09-03T17:05:06.721163Z",
     "shell.execute_reply": "2020-09-03T17:05:06.720017Z",
     "shell.execute_reply.started": "2020-09-03T17:05:06.398015Z"
    }
   },
   "outputs": [],
   "source": [
    "model= pickle.load(open('final_model.sav', 'rb'))"
   ]
  },
  {
   "cell_type": "markdown",
   "metadata": {},
   "source": [
    "# 2018 data <a id=data></a>"
   ]
  },
  {
   "cell_type": "code",
   "execution_count": 3,
   "metadata": {
    "execution": {
     "iopub.execute_input": "2020-09-03T17:05:06.740030Z",
     "iopub.status.busy": "2020-09-03T17:05:06.734556Z",
     "iopub.status.idle": "2020-09-03T17:05:09.595687Z",
     "shell.execute_reply": "2020-09-03T17:05:09.594755Z",
     "shell.execute_reply.started": "2020-09-03T17:05:06.739973Z"
    }
   },
   "outputs": [
    {
     "data": {
      "text/html": [
       "<div>\n",
       "<style scoped>\n",
       "    .dataframe tbody tr th:only-of-type {\n",
       "        vertical-align: middle;\n",
       "    }\n",
       "\n",
       "    .dataframe tbody tr th {\n",
       "        vertical-align: top;\n",
       "    }\n",
       "\n",
       "    .dataframe thead th {\n",
       "        text-align: right;\n",
       "    }\n",
       "</style>\n",
       "<table border=\"1\" class=\"dataframe\">\n",
       "  <thead>\n",
       "    <tr style=\"text-align: right;\">\n",
       "      <th></th>\n",
       "      <th>FSAFIL1</th>\n",
       "      <th>FSAFIL2</th>\n",
       "      <th>FSAFIL3</th>\n",
       "      <th>FSAFIL4</th>\n",
       "      <th>FSAFIL5</th>\n",
       "      <th>FSAFIL6</th>\n",
       "      <th>FSAFIL7</th>\n",
       "      <th>FSAFIL8</th>\n",
       "      <th>FSAFIL9</th>\n",
       "      <th>FSAFIL10</th>\n",
       "      <th>...</th>\n",
       "      <th>WORK12</th>\n",
       "      <th>WORK13</th>\n",
       "      <th>WORK14</th>\n",
       "      <th>WORK15</th>\n",
       "      <th>WORK16</th>\n",
       "      <th>FSNONCIT</th>\n",
       "      <th>FSDIS</th>\n",
       "      <th>FSELDER</th>\n",
       "      <th>FSKID</th>\n",
       "      <th>STATENAME</th>\n",
       "    </tr>\n",
       "  </thead>\n",
       "  <tbody>\n",
       "    <tr>\n",
       "      <th>0</th>\n",
       "      <td>1</td>\n",
       "      <td>NaN</td>\n",
       "      <td>NaN</td>\n",
       "      <td>NaN</td>\n",
       "      <td>NaN</td>\n",
       "      <td>NaN</td>\n",
       "      <td>NaN</td>\n",
       "      <td>NaN</td>\n",
       "      <td>NaN</td>\n",
       "      <td>NaN</td>\n",
       "      <td>...</td>\n",
       "      <td>NaN</td>\n",
       "      <td>NaN</td>\n",
       "      <td>NaN</td>\n",
       "      <td>NaN</td>\n",
       "      <td>NaN</td>\n",
       "      <td>0</td>\n",
       "      <td>0</td>\n",
       "      <td>1</td>\n",
       "      <td>0</td>\n",
       "      <td>Connecticut</td>\n",
       "    </tr>\n",
       "    <tr>\n",
       "      <th>1</th>\n",
       "      <td>1</td>\n",
       "      <td>NaN</td>\n",
       "      <td>NaN</td>\n",
       "      <td>NaN</td>\n",
       "      <td>NaN</td>\n",
       "      <td>NaN</td>\n",
       "      <td>NaN</td>\n",
       "      <td>NaN</td>\n",
       "      <td>NaN</td>\n",
       "      <td>NaN</td>\n",
       "      <td>...</td>\n",
       "      <td>NaN</td>\n",
       "      <td>NaN</td>\n",
       "      <td>NaN</td>\n",
       "      <td>NaN</td>\n",
       "      <td>NaN</td>\n",
       "      <td>0</td>\n",
       "      <td>1</td>\n",
       "      <td>0</td>\n",
       "      <td>0</td>\n",
       "      <td>Connecticut</td>\n",
       "    </tr>\n",
       "    <tr>\n",
       "      <th>2</th>\n",
       "      <td>1</td>\n",
       "      <td>NaN</td>\n",
       "      <td>NaN</td>\n",
       "      <td>NaN</td>\n",
       "      <td>NaN</td>\n",
       "      <td>NaN</td>\n",
       "      <td>NaN</td>\n",
       "      <td>NaN</td>\n",
       "      <td>NaN</td>\n",
       "      <td>NaN</td>\n",
       "      <td>...</td>\n",
       "      <td>NaN</td>\n",
       "      <td>NaN</td>\n",
       "      <td>NaN</td>\n",
       "      <td>NaN</td>\n",
       "      <td>NaN</td>\n",
       "      <td>0</td>\n",
       "      <td>1</td>\n",
       "      <td>0</td>\n",
       "      <td>0</td>\n",
       "      <td>Connecticut</td>\n",
       "    </tr>\n",
       "    <tr>\n",
       "      <th>3</th>\n",
       "      <td>1</td>\n",
       "      <td>NaN</td>\n",
       "      <td>NaN</td>\n",
       "      <td>NaN</td>\n",
       "      <td>NaN</td>\n",
       "      <td>NaN</td>\n",
       "      <td>NaN</td>\n",
       "      <td>NaN</td>\n",
       "      <td>NaN</td>\n",
       "      <td>NaN</td>\n",
       "      <td>...</td>\n",
       "      <td>NaN</td>\n",
       "      <td>NaN</td>\n",
       "      <td>NaN</td>\n",
       "      <td>NaN</td>\n",
       "      <td>NaN</td>\n",
       "      <td>0</td>\n",
       "      <td>0</td>\n",
       "      <td>0</td>\n",
       "      <td>0</td>\n",
       "      <td>Connecticut</td>\n",
       "    </tr>\n",
       "    <tr>\n",
       "      <th>4</th>\n",
       "      <td>1</td>\n",
       "      <td>NaN</td>\n",
       "      <td>NaN</td>\n",
       "      <td>NaN</td>\n",
       "      <td>NaN</td>\n",
       "      <td>NaN</td>\n",
       "      <td>NaN</td>\n",
       "      <td>NaN</td>\n",
       "      <td>NaN</td>\n",
       "      <td>NaN</td>\n",
       "      <td>...</td>\n",
       "      <td>NaN</td>\n",
       "      <td>NaN</td>\n",
       "      <td>NaN</td>\n",
       "      <td>NaN</td>\n",
       "      <td>NaN</td>\n",
       "      <td>0</td>\n",
       "      <td>1</td>\n",
       "      <td>0</td>\n",
       "      <td>0</td>\n",
       "      <td>Connecticut</td>\n",
       "    </tr>\n",
       "  </tbody>\n",
       "</table>\n",
       "<p>5 rows × 814 columns</p>\n",
       "</div>"
      ],
      "text/plain": [
       "   FSAFIL1  FSAFIL2  FSAFIL3  FSAFIL4  FSAFIL5  FSAFIL6  FSAFIL7  FSAFIL8  \\\n",
       "0        1      NaN      NaN      NaN      NaN      NaN      NaN      NaN   \n",
       "1        1      NaN      NaN      NaN      NaN      NaN      NaN      NaN   \n",
       "2        1      NaN      NaN      NaN      NaN      NaN      NaN      NaN   \n",
       "3        1      NaN      NaN      NaN      NaN      NaN      NaN      NaN   \n",
       "4        1      NaN      NaN      NaN      NaN      NaN      NaN      NaN   \n",
       "\n",
       "   FSAFIL9  FSAFIL10  ...  WORK12  WORK13  WORK14  WORK15  WORK16  FSNONCIT  \\\n",
       "0      NaN       NaN  ...     NaN     NaN     NaN     NaN     NaN         0   \n",
       "1      NaN       NaN  ...     NaN     NaN     NaN     NaN     NaN         0   \n",
       "2      NaN       NaN  ...     NaN     NaN     NaN     NaN     NaN         0   \n",
       "3      NaN       NaN  ...     NaN     NaN     NaN     NaN     NaN         0   \n",
       "4      NaN       NaN  ...     NaN     NaN     NaN     NaN     NaN         0   \n",
       "\n",
       "   FSDIS  FSELDER  FSKID    STATENAME  \n",
       "0      0        1      0  Connecticut  \n",
       "1      1        0      0  Connecticut  \n",
       "2      1        0      0  Connecticut  \n",
       "3      0        0      0  Connecticut  \n",
       "4      1        0      0  Connecticut  \n",
       "\n",
       "[5 rows x 814 columns]"
      ]
     },
     "execution_count": 3,
     "metadata": {},
     "output_type": "execute_result"
    }
   ],
   "source": [
    "df = pd.read_csv('./data/qc_pub_fy2018.csv')\n",
    "df.head()"
   ]
  },
  {
   "cell_type": "code",
   "execution_count": 4,
   "metadata": {
    "execution": {
     "iopub.execute_input": "2020-09-03T17:05:09.599897Z",
     "iopub.status.busy": "2020-09-03T17:05:09.599145Z",
     "iopub.status.idle": "2020-09-03T17:05:09.697683Z",
     "shell.execute_reply": "2020-09-03T17:05:09.695367Z",
     "shell.execute_reply.started": "2020-09-03T17:05:09.599857Z"
    }
   },
   "outputs": [
    {
     "data": {
      "text/plain": [
       "(43738, 814)"
      ]
     },
     "execution_count": 4,
     "metadata": {},
     "output_type": "execute_result"
    }
   ],
   "source": [
    "df.shape"
   ]
  },
  {
   "cell_type": "code",
   "execution_count": 5,
   "metadata": {
    "execution": {
     "iopub.execute_input": "2020-09-03T17:05:09.713116Z",
     "iopub.status.busy": "2020-09-03T17:05:09.712325Z",
     "iopub.status.idle": "2020-09-03T17:05:09.902751Z",
     "shell.execute_reply": "2020-09-03T17:05:09.901767Z",
     "shell.execute_reply.started": "2020-09-03T17:05:09.713073Z"
    }
   },
   "outputs": [
    {
     "name": "stdout",
     "output_type": "stream",
     "text": [
      "<class 'pandas.core.frame.DataFrame'>\n",
      "RangeIndex: 43738 entries, 0 to 43737\n",
      "Columns: 814 entries, FSAFIL1 to STATENAME\n",
      "dtypes: float64(373), int64(440), object(1)\n",
      "memory usage: 271.6+ MB\n"
     ]
    }
   ],
   "source": [
    "df.info()"
   ]
  },
  {
   "cell_type": "markdown",
   "metadata": {},
   "source": [
    "### _Predictions_ <a id=predictions></a>"
   ]
  },
  {
   "cell_type": "code",
   "execution_count": 6,
   "metadata": {
    "execution": {
     "iopub.execute_input": "2020-09-03T17:05:09.904657Z",
     "iopub.status.busy": "2020-09-03T17:05:09.904246Z",
     "iopub.status.idle": "2020-09-03T17:05:10.098010Z",
     "shell.execute_reply": "2020-09-03T17:05:10.097050Z",
     "shell.execute_reply.started": "2020-09-03T17:05:09.904631Z"
    }
   },
   "outputs": [],
   "source": [
    "df = sc.clean_data_to_predict(df)"
   ]
  },
  {
   "cell_type": "code",
   "execution_count": 7,
   "metadata": {
    "execution": {
     "iopub.execute_input": "2020-09-03T17:05:10.099988Z",
     "iopub.status.busy": "2020-09-03T17:05:10.099461Z",
     "iopub.status.idle": "2020-09-03T17:05:13.913567Z",
     "shell.execute_reply": "2020-09-03T17:05:13.912447Z",
     "shell.execute_reply.started": "2020-09-03T17:05:10.099924Z"
    }
   },
   "outputs": [
    {
     "data": {
      "text/html": [
       "<div>\n",
       "<style scoped>\n",
       "    .dataframe tbody tr th:only-of-type {\n",
       "        vertical-align: middle;\n",
       "    }\n",
       "\n",
       "    .dataframe tbody tr th {\n",
       "        vertical-align: top;\n",
       "    }\n",
       "\n",
       "    .dataframe thead th {\n",
       "        text-align: right;\n",
       "    }\n",
       "</style>\n",
       "<table border=\"1\" class=\"dataframe\">\n",
       "  <thead>\n",
       "    <tr style=\"text-align: right;\">\n",
       "      <th></th>\n",
       "      <th>state</th>\n",
       "      <th>FSGRINC</th>\n",
       "      <th>REALPROP</th>\n",
       "      <th>FSGA</th>\n",
       "      <th>FSSSI</th>\n",
       "      <th>CERTHHSZ</th>\n",
       "      <th>FSDIS</th>\n",
       "      <th>FSVEHAST</th>\n",
       "      <th>FSSLTDE2</th>\n",
       "      <th>FSUNEARN</th>\n",
       "      <th>...</th>\n",
       "      <th>FSASSET</th>\n",
       "      <th>FSTANF</th>\n",
       "      <th>HWGT</th>\n",
       "      <th>FSNELDER</th>\n",
       "      <th>SHELDED</th>\n",
       "      <th>TPOV</th>\n",
       "      <th>FSNETINC</th>\n",
       "      <th>RAWNET</th>\n",
       "      <th>RAWERND</th>\n",
       "      <th>predict</th>\n",
       "    </tr>\n",
       "  </thead>\n",
       "  <tbody>\n",
       "    <tr>\n",
       "      <th>0</th>\n",
       "      <td>Connecticut</td>\n",
       "      <td>920.0</td>\n",
       "      <td>0.0</td>\n",
       "      <td>0.0</td>\n",
       "      <td>0.0</td>\n",
       "      <td>1.0</td>\n",
       "      <td>0.0</td>\n",
       "      <td>0.0</td>\n",
       "      <td>584.0</td>\n",
       "      <td>920.0</td>\n",
       "      <td>...</td>\n",
       "      <td>0.0</td>\n",
       "      <td>0.0</td>\n",
       "      <td>3575.418186</td>\n",
       "      <td>1.0</td>\n",
       "      <td>584.0</td>\n",
       "      <td>92.0</td>\n",
       "      <td>176.0</td>\n",
       "      <td>176.0</td>\n",
       "      <td>0.0</td>\n",
       "      <td>0.0</td>\n",
       "    </tr>\n",
       "    <tr>\n",
       "      <th>1</th>\n",
       "      <td>Connecticut</td>\n",
       "      <td>1409.0</td>\n",
       "      <td>0.0</td>\n",
       "      <td>0.0</td>\n",
       "      <td>0.0</td>\n",
       "      <td>1.0</td>\n",
       "      <td>1.0</td>\n",
       "      <td>0.0</td>\n",
       "      <td>969.0</td>\n",
       "      <td>1197.0</td>\n",
       "      <td>...</td>\n",
       "      <td>0.0</td>\n",
       "      <td>0.0</td>\n",
       "      <td>3704.260672</td>\n",
       "      <td>0.0</td>\n",
       "      <td>968.0</td>\n",
       "      <td>140.0</td>\n",
       "      <td>238.0</td>\n",
       "      <td>239.0</td>\n",
       "      <td>42.0</td>\n",
       "      <td>1.0</td>\n",
       "    </tr>\n",
       "    <tr>\n",
       "      <th>2</th>\n",
       "      <td>Connecticut</td>\n",
       "      <td>1278.0</td>\n",
       "      <td>0.0</td>\n",
       "      <td>0.0</td>\n",
       "      <td>0.0</td>\n",
       "      <td>1.0</td>\n",
       "      <td>1.0</td>\n",
       "      <td>0.0</td>\n",
       "      <td>969.0</td>\n",
       "      <td>1278.0</td>\n",
       "      <td>...</td>\n",
       "      <td>0.0</td>\n",
       "      <td>0.0</td>\n",
       "      <td>3521.168714</td>\n",
       "      <td>0.0</td>\n",
       "      <td>969.0</td>\n",
       "      <td>127.0</td>\n",
       "      <td>149.0</td>\n",
       "      <td>149.0</td>\n",
       "      <td>0.0</td>\n",
       "      <td>1.0</td>\n",
       "    </tr>\n",
       "    <tr>\n",
       "      <th>3</th>\n",
       "      <td>Connecticut</td>\n",
       "      <td>0.0</td>\n",
       "      <td>0.0</td>\n",
       "      <td>0.0</td>\n",
       "      <td>0.0</td>\n",
       "      <td>1.0</td>\n",
       "      <td>0.0</td>\n",
       "      <td>0.0</td>\n",
       "      <td>0.0</td>\n",
       "      <td>0.0</td>\n",
       "      <td>...</td>\n",
       "      <td>0.0</td>\n",
       "      <td>0.0</td>\n",
       "      <td>3216.015443</td>\n",
       "      <td>0.0</td>\n",
       "      <td>0.0</td>\n",
       "      <td>0.0</td>\n",
       "      <td>0.0</td>\n",
       "      <td>0.0</td>\n",
       "      <td>0.0</td>\n",
       "      <td>1.0</td>\n",
       "    </tr>\n",
       "    <tr>\n",
       "      <th>4</th>\n",
       "      <td>Connecticut</td>\n",
       "      <td>1113.0</td>\n",
       "      <td>0.0</td>\n",
       "      <td>0.0</td>\n",
       "      <td>735.0</td>\n",
       "      <td>1.0</td>\n",
       "      <td>1.0</td>\n",
       "      <td>0.0</td>\n",
       "      <td>802.0</td>\n",
       "      <td>1113.0</td>\n",
       "      <td>...</td>\n",
       "      <td>0.0</td>\n",
       "      <td>0.0</td>\n",
       "      <td>3527.949889</td>\n",
       "      <td>0.0</td>\n",
       "      <td>802.0</td>\n",
       "      <td>111.0</td>\n",
       "      <td>151.0</td>\n",
       "      <td>151.0</td>\n",
       "      <td>0.0</td>\n",
       "      <td>1.0</td>\n",
       "    </tr>\n",
       "    <tr>\n",
       "      <th>...</th>\n",
       "      <td>...</td>\n",
       "      <td>...</td>\n",
       "      <td>...</td>\n",
       "      <td>...</td>\n",
       "      <td>...</td>\n",
       "      <td>...</td>\n",
       "      <td>...</td>\n",
       "      <td>...</td>\n",
       "      <td>...</td>\n",
       "      <td>...</td>\n",
       "      <td>...</td>\n",
       "      <td>...</td>\n",
       "      <td>...</td>\n",
       "      <td>...</td>\n",
       "      <td>...</td>\n",
       "      <td>...</td>\n",
       "      <td>...</td>\n",
       "      <td>...</td>\n",
       "      <td>...</td>\n",
       "      <td>...</td>\n",
       "      <td>...</td>\n",
       "    </tr>\n",
       "    <tr>\n",
       "      <th>43733</th>\n",
       "      <td>Guam</td>\n",
       "      <td>150.0</td>\n",
       "      <td>0.0</td>\n",
       "      <td>0.0</td>\n",
       "      <td>0.0</td>\n",
       "      <td>2.0</td>\n",
       "      <td>0.0</td>\n",
       "      <td>0.0</td>\n",
       "      <td>0.0</td>\n",
       "      <td>150.0</td>\n",
       "      <td>...</td>\n",
       "      <td>0.0</td>\n",
       "      <td>0.0</td>\n",
       "      <td>434.970460</td>\n",
       "      <td>0.0</td>\n",
       "      <td>0.0</td>\n",
       "      <td>11.0</td>\n",
       "      <td>0.0</td>\n",
       "      <td>0.0</td>\n",
       "      <td>0.0</td>\n",
       "      <td>1.0</td>\n",
       "    </tr>\n",
       "    <tr>\n",
       "      <th>43734</th>\n",
       "      <td>Guam</td>\n",
       "      <td>1076.0</td>\n",
       "      <td>0.0</td>\n",
       "      <td>0.0</td>\n",
       "      <td>0.0</td>\n",
       "      <td>2.0</td>\n",
       "      <td>0.0</td>\n",
       "      <td>0.0</td>\n",
       "      <td>72.0</td>\n",
       "      <td>0.0</td>\n",
       "      <td>...</td>\n",
       "      <td>0.0</td>\n",
       "      <td>0.0</td>\n",
       "      <td>455.422602</td>\n",
       "      <td>0.0</td>\n",
       "      <td>342.0</td>\n",
       "      <td>79.0</td>\n",
       "      <td>468.0</td>\n",
       "      <td>468.0</td>\n",
       "      <td>215.0</td>\n",
       "      <td>1.0</td>\n",
       "    </tr>\n",
       "    <tr>\n",
       "      <th>43735</th>\n",
       "      <td>Guam</td>\n",
       "      <td>1031.0</td>\n",
       "      <td>0.0</td>\n",
       "      <td>0.0</td>\n",
       "      <td>0.0</td>\n",
       "      <td>3.0</td>\n",
       "      <td>0.0</td>\n",
       "      <td>0.0</td>\n",
       "      <td>0.0</td>\n",
       "      <td>0.0</td>\n",
       "      <td>...</td>\n",
       "      <td>0.0</td>\n",
       "      <td>0.0</td>\n",
       "      <td>428.583705</td>\n",
       "      <td>0.0</td>\n",
       "      <td>124.0</td>\n",
       "      <td>61.0</td>\n",
       "      <td>504.0</td>\n",
       "      <td>504.0</td>\n",
       "      <td>206.0</td>\n",
       "      <td>1.0</td>\n",
       "    </tr>\n",
       "    <tr>\n",
       "      <th>43736</th>\n",
       "      <td>Guam</td>\n",
       "      <td>0.0</td>\n",
       "      <td>0.0</td>\n",
       "      <td>0.0</td>\n",
       "      <td>0.0</td>\n",
       "      <td>2.0</td>\n",
       "      <td>0.0</td>\n",
       "      <td>0.0</td>\n",
       "      <td>0.0</td>\n",
       "      <td>0.0</td>\n",
       "      <td>...</td>\n",
       "      <td>0.0</td>\n",
       "      <td>0.0</td>\n",
       "      <td>434.970460</td>\n",
       "      <td>0.0</td>\n",
       "      <td>0.0</td>\n",
       "      <td>0.0</td>\n",
       "      <td>0.0</td>\n",
       "      <td>0.0</td>\n",
       "      <td>0.0</td>\n",
       "      <td>1.0</td>\n",
       "    </tr>\n",
       "    <tr>\n",
       "      <th>43737</th>\n",
       "      <td>Guam</td>\n",
       "      <td>250.0</td>\n",
       "      <td>0.0</td>\n",
       "      <td>0.0</td>\n",
       "      <td>0.0</td>\n",
       "      <td>6.0</td>\n",
       "      <td>0.0</td>\n",
       "      <td>0.0</td>\n",
       "      <td>0.0</td>\n",
       "      <td>250.0</td>\n",
       "      <td>...</td>\n",
       "      <td>0.0</td>\n",
       "      <td>0.0</td>\n",
       "      <td>331.386190</td>\n",
       "      <td>0.0</td>\n",
       "      <td>456.0</td>\n",
       "      <td>9.0</td>\n",
       "      <td>0.0</td>\n",
       "      <td>0.0</td>\n",
       "      <td>0.0</td>\n",
       "      <td>0.0</td>\n",
       "    </tr>\n",
       "  </tbody>\n",
       "</table>\n",
       "<p>42608 rows × 34 columns</p>\n",
       "</div>"
      ],
      "text/plain": [
       "             state  FSGRINC  REALPROP  FSGA  FSSSI  CERTHHSZ  FSDIS  FSVEHAST  \\\n",
       "0      Connecticut    920.0       0.0   0.0    0.0       1.0    0.0       0.0   \n",
       "1      Connecticut   1409.0       0.0   0.0    0.0       1.0    1.0       0.0   \n",
       "2      Connecticut   1278.0       0.0   0.0    0.0       1.0    1.0       0.0   \n",
       "3      Connecticut      0.0       0.0   0.0    0.0       1.0    0.0       0.0   \n",
       "4      Connecticut   1113.0       0.0   0.0  735.0       1.0    1.0       0.0   \n",
       "...            ...      ...       ...   ...    ...       ...    ...       ...   \n",
       "43733         Guam    150.0       0.0   0.0    0.0       2.0    0.0       0.0   \n",
       "43734         Guam   1076.0       0.0   0.0    0.0       2.0    0.0       0.0   \n",
       "43735         Guam   1031.0       0.0   0.0    0.0       3.0    0.0       0.0   \n",
       "43736         Guam      0.0       0.0   0.0    0.0       2.0    0.0       0.0   \n",
       "43737         Guam    250.0       0.0   0.0    0.0       6.0    0.0       0.0   \n",
       "\n",
       "       FSSLTDE2  FSUNEARN  ...  FSASSET  FSTANF         HWGT  FSNELDER  \\\n",
       "0         584.0     920.0  ...      0.0     0.0  3575.418186       1.0   \n",
       "1         969.0    1197.0  ...      0.0     0.0  3704.260672       0.0   \n",
       "2         969.0    1278.0  ...      0.0     0.0  3521.168714       0.0   \n",
       "3           0.0       0.0  ...      0.0     0.0  3216.015443       0.0   \n",
       "4         802.0    1113.0  ...      0.0     0.0  3527.949889       0.0   \n",
       "...         ...       ...  ...      ...     ...          ...       ...   \n",
       "43733       0.0     150.0  ...      0.0     0.0   434.970460       0.0   \n",
       "43734      72.0       0.0  ...      0.0     0.0   455.422602       0.0   \n",
       "43735       0.0       0.0  ...      0.0     0.0   428.583705       0.0   \n",
       "43736       0.0       0.0  ...      0.0     0.0   434.970460       0.0   \n",
       "43737       0.0     250.0  ...      0.0     0.0   331.386190       0.0   \n",
       "\n",
       "       SHELDED   TPOV  FSNETINC  RAWNET  RAWERND  predict  \n",
       "0        584.0   92.0     176.0   176.0      0.0      0.0  \n",
       "1        968.0  140.0     238.0   239.0     42.0      1.0  \n",
       "2        969.0  127.0     149.0   149.0      0.0      1.0  \n",
       "3          0.0    0.0       0.0     0.0      0.0      1.0  \n",
       "4        802.0  111.0     151.0   151.0      0.0      1.0  \n",
       "...        ...    ...       ...     ...      ...      ...  \n",
       "43733      0.0   11.0       0.0     0.0      0.0      1.0  \n",
       "43734    342.0   79.0     468.0   468.0    215.0      1.0  \n",
       "43735    124.0   61.0     504.0   504.0    206.0      1.0  \n",
       "43736      0.0    0.0       0.0     0.0      0.0      1.0  \n",
       "43737    456.0    9.0       0.0     0.0      0.0      0.0  \n",
       "\n",
       "[42608 rows x 34 columns]"
      ]
     },
     "execution_count": 7,
     "metadata": {},
     "output_type": "execute_result"
    }
   ],
   "source": [
    "ss= StandardScaler()\n",
    "X = ss.fit_transform(df.drop(columns=['state']))\n",
    "df['predict']=model.predict(X)\n",
    "df"
   ]
  },
  {
   "cell_type": "code",
   "execution_count": 8,
   "metadata": {
    "execution": {
     "iopub.execute_input": "2020-09-03T17:05:13.916650Z",
     "iopub.status.busy": "2020-09-03T17:05:13.916004Z",
     "iopub.status.idle": "2020-09-03T17:05:15.311714Z",
     "shell.execute_reply": "2020-09-03T17:05:15.310786Z",
     "shell.execute_reply.started": "2020-09-03T17:05:13.916593Z"
    }
   },
   "outputs": [],
   "source": [
    "df.to_csv('./data/2018_indicators/preds_all.csv',index=None)"
   ]
  },
  {
   "cell_type": "code",
   "execution_count": 9,
   "metadata": {
    "execution": {
     "iopub.execute_input": "2020-09-03T17:05:15.318813Z",
     "iopub.status.busy": "2020-09-03T17:05:15.316609Z",
     "iopub.status.idle": "2020-09-03T17:05:15.425295Z",
     "shell.execute_reply": "2020-09-03T17:05:15.424286Z",
     "shell.execute_reply.started": "2020-09-03T17:05:15.318736Z"
    }
   },
   "outputs": [],
   "source": [
    "pred_df = pd.DataFrame(df.groupby('state')['predict'].value_counts().unstack()).rename(columns={0.0:'No',1.0:'Yes'})"
   ]
  },
  {
   "cell_type": "code",
   "execution_count": 10,
   "metadata": {
    "execution": {
     "iopub.execute_input": "2020-09-03T17:05:15.442258Z",
     "iopub.status.busy": "2020-09-03T17:05:15.427281Z",
     "iopub.status.idle": "2020-09-03T17:05:15.524421Z",
     "shell.execute_reply": "2020-09-03T17:05:15.523287Z",
     "shell.execute_reply.started": "2020-09-03T17:05:15.441750Z"
    }
   },
   "outputs": [
    {
     "name": "stdout",
     "output_type": "stream",
     "text": [
      "<class 'pandas.core.frame.DataFrame'>\n",
      "Index: 53 entries, Alabama to Wyoming\n",
      "Data columns (total 2 columns):\n",
      " #   Column  Non-Null Count  Dtype\n",
      "---  ------  --------------  -----\n",
      " 0   No      53 non-null     int64\n",
      " 1   Yes     53 non-null     int64\n",
      "dtypes: int64(2)\n",
      "memory usage: 1.2+ KB\n"
     ]
    }
   ],
   "source": [
    "pred_df.info()"
   ]
  },
  {
   "cell_type": "code",
   "execution_count": 11,
   "metadata": {
    "execution": {
     "iopub.execute_input": "2020-09-03T17:05:15.536234Z",
     "iopub.status.busy": "2020-09-03T17:05:15.535740Z",
     "iopub.status.idle": "2020-09-03T17:05:15.741531Z",
     "shell.execute_reply": "2020-09-03T17:05:15.740406Z",
     "shell.execute_reply.started": "2020-09-03T17:05:15.536191Z"
    }
   },
   "outputs": [],
   "source": [
    "pred_df.to_csv('./data/2018_indicators/preds_target.csv',index='state')"
   ]
  },
  {
   "cell_type": "markdown",
   "metadata": {},
   "source": [
    "# GIS Analysis files <a id=gis></a>"
   ]
  },
  {
   "cell_type": "markdown",
   "metadata": {},
   "source": [
    "These series of dataframes show:\n",
    "- `coef_df` = the model tree interpreter coefficients impact on the model prediction, sorted by largest to smallest impact.\n",
    "- `top` = the top 15 of the most impactful coefficients on prediction.\n",
    "- `coef_2018` = a dataframe of the top most impactful coefficients retrieved from 2018 data.\n",
    "- `coef_2018.groupby('State')`= the mean average of impactful coefficients by state."
   ]
  },
  {
   "cell_type": "code",
   "execution_count": 12,
   "metadata": {
    "execution": {
     "iopub.execute_input": "2020-09-03T17:05:15.743850Z",
     "iopub.status.busy": "2020-09-03T17:05:15.743361Z",
     "iopub.status.idle": "2020-09-03T17:05:16.136473Z",
     "shell.execute_reply": "2020-09-03T17:05:16.134931Z",
     "shell.execute_reply.started": "2020-09-03T17:05:15.743797Z"
    }
   },
   "outputs": [],
   "source": [
    "coef_df = pd.read_csv('./data/2018_indicators/coef.csv')\n",
    "coef_df['diff']= (coef_df['pred_0']-coef_df['pred_1']).abs()\n",
    "coef_diff = coef_df.drop(columns=['pred_0','pred_1'])"
   ]
  },
  {
   "cell_type": "code",
   "execution_count": 16,
   "metadata": {
    "execution": {
     "iopub.execute_input": "2020-09-03T17:21:17.587954Z",
     "iopub.status.busy": "2020-09-03T17:21:17.587643Z",
     "iopub.status.idle": "2020-09-03T17:21:17.651443Z",
     "shell.execute_reply": "2020-09-03T17:21:17.650619Z",
     "shell.execute_reply.started": "2020-09-03T17:21:17.587927Z"
    }
   },
   "outputs": [],
   "source": [
    "coef_diff = coef_diff.sort_values(by=['diff'],ascending=False).reset_index(drop=True)\n",
    "top = coef_diff.head(15)\n",
    "top.to_csv('./data/2018_indicators/top_impacts.csv',index=None)"
   ]
  },
  {
   "cell_type": "code",
   "execution_count": 14,
   "metadata": {
    "execution": {
     "iopub.execute_input": "2020-09-03T17:05:16.242385Z",
     "iopub.status.busy": "2020-09-03T17:05:16.242031Z",
     "iopub.status.idle": "2020-09-03T17:05:16.538471Z",
     "shell.execute_reply": "2020-09-03T17:05:16.537646Z",
     "shell.execute_reply.started": "2020-09-03T17:05:16.242357Z"
    }
   },
   "outputs": [],
   "source": [
    "coef_2018= sc.top_coef_df(top, df).set_index('state')\n",
    "coef_2018.astype('int64').to_csv('./data/2018_indicators/coef_2018_all.csv',index='state')"
   ]
  },
  {
   "cell_type": "code",
   "execution_count": 15,
   "metadata": {
    "execution": {
     "iopub.execute_input": "2020-09-03T17:05:16.540186Z",
     "iopub.status.busy": "2020-09-03T17:05:16.539820Z",
     "iopub.status.idle": "2020-09-03T17:05:16.660400Z",
     "shell.execute_reply": "2020-09-03T17:05:16.659528Z",
     "shell.execute_reply.started": "2020-09-03T17:05:16.540157Z"
    }
   },
   "outputs": [],
   "source": [
    "coef_2018.groupby('state').mean().astype('int64').to_csv('./data/2018_indicators/coef_2018_state_avg.csv',index='state')"
   ]
  },
  {
   "cell_type": "code",
   "execution_count": null,
   "metadata": {},
   "outputs": [],
   "source": []
  }
 ],
 "metadata": {
  "kernelspec": {
   "display_name": "Python 3",
   "language": "python",
   "name": "python3"
  },
  "language_info": {
   "codemirror_mode": {
    "name": "ipython",
    "version": 3
   },
   "file_extension": ".py",
   "mimetype": "text/x-python",
   "name": "python",
   "nbconvert_exporter": "python",
   "pygments_lexer": "ipython3",
   "version": "3.7.7"
  }
 },
 "nbformat": 4,
 "nbformat_minor": 4
}
