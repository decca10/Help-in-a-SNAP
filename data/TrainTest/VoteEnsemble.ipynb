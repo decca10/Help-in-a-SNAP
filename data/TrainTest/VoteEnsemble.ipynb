{
 "cells": [
  {
   "cell_type": "code",
   "execution_count": 1,
   "metadata": {
    "execution": {
     "iopub.execute_input": "2020-09-01T21:37:22.530044Z",
     "iopub.status.busy": "2020-09-01T21:37:22.529736Z",
     "iopub.status.idle": "2020-09-02T07:32:20.856378Z",
     "shell.execute_reply": "2020-09-02T07:32:20.855256Z",
     "shell.execute_reply.started": "2020-09-01T21:37:22.530016Z"
    }
   },
   "outputs": [
    {
     "name": "stdout",
     "output_type": "stream",
     "text": [
      "0.9509512425417362\n"
     ]
    },
    {
     "data": {
      "text/plain": [
       "{'bag__n_estimators': 10,\n",
       " 'gb__max_depth': 10,\n",
       " 'gb__subsample': 0.8,\n",
       " 'rf__bootstrap': False,\n",
       " 'rf__max_depth': None,\n",
       " 'rf__n_estimators': 1000}"
      ]
     },
     "execution_count": 1,
     "metadata": {},
     "output_type": "execute_result"
    }
   ],
   "source": [
    "from sklearn.ensemble import RandomForestClassifier, VotingClassifier, BaggingClassifier, GradientBoostingClassifier\n",
    "from sklearn.model_selection import GridSearchCV\n",
    "\n",
    "import numpy as np\n",
    "\n",
    "\n",
    "X_train = np.loadtxt('X_train.csv', delimiter=',')\n",
    "y_train = np.loadtxt('y_train.csv', delimiter=',')\n",
    "X_test = np.loadtxt('X_test.csv', delimiter=',')\n",
    "y_test = np.loadtxt('y_test.csv', delimiter=',')\n",
    "\n",
    "vote = VotingClassifier([\n",
    "    ('rf',RandomForestClassifier()),\n",
    "    ('gb',GradientBoostingClassifier()),\n",
    "    ('bag',BaggingClassifier())])\n",
    "\n",
    "params={\n",
    "    'rf__n_estimators':[10,100,1000],\n",
    "    'rf__max_depth':[2,10,20,None],\n",
    "    'rf__bootstrap':[True,False],\n",
    "    'gb__subsample':[0.6,0.8,1.0],\n",
    "    'gb__max_depth':[2,10,20,None],\n",
    "    'bag__n_estimators':[10,100,1000]\n",
    "}\n",
    "gs = GridSearchCV(vote,param_grid=params)\n",
    "gs.fit(X_train,y_train)\n",
    "print(gs.best_score_)\n",
    "gs.best_params_\n"
   ]
  },
  {
   "cell_type": "code",
   "execution_count": null,
   "metadata": {},
   "outputs": [],
   "source": []
  }
 ],
 "metadata": {
  "kernelspec": {
   "display_name": "Python 3",
   "language": "python",
   "name": "python3"
  },
  "language_info": {
   "codemirror_mode": {
    "name": "ipython",
    "version": 3
   },
   "file_extension": ".py",
   "mimetype": "text/x-python",
   "name": "python",
   "nbconvert_exporter": "python",
   "pygments_lexer": "ipython3",
   "version": "3.7.7"
  }
 },
 "nbformat": 4,
 "nbformat_minor": 4
}
