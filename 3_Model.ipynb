{
 "cells": [
  {
   "cell_type": "markdown",
   "metadata": {
    "execution": {
     "iopub.execute_input": "2020-08-30T17:56:56.223203Z",
     "iopub.status.busy": "2020-08-30T17:56:56.222885Z",
     "iopub.status.idle": "2020-08-30T17:56:56.229068Z",
     "shell.execute_reply": "2020-08-30T17:56:56.227627Z",
     "shell.execute_reply.started": "2020-08-30T17:56:56.223176Z"
    }
   },
   "source": [
    "# Model"
   ]
  },
  {
   "cell_type": "markdown",
   "metadata": {},
   "source": [
    "In this notebook, I will test some models to determine which model performs best.  I want my final model to be interpretable so I will only be testing white box models."
   ]
  },
  {
   "cell_type": "markdown",
   "metadata": {},
   "source": [
    "- [Imports](#imports)\n",
    "- [Data Prep](#dataprep)\n",
    "- [Models](#models)\n",
    "    - [Overview model selection](#overviewmodel)\n",
    "    - [Model Selection](#modelsel)\n",
    "- [Running Models](#runmodel)\n",
    "    - [Random Forest](#rfc)\n",
    "    - [Extra Tree Classifier](#etc)\n",
    "    - [Bagging Classifier](#bag)\n",
    "    - [Vote Ensemble Random Forest](#vote)\n",
    "- [Final Model](#final)"
   ]
  },
  {
   "cell_type": "markdown",
   "metadata": {},
   "source": [
    "# Imports  <a id=imports></a>"
   ]
  },
  {
   "cell_type": "code",
   "execution_count": 1,
   "metadata": {
    "execution": {
     "iopub.execute_input": "2020-09-03T15:45:49.039591Z",
     "iopub.status.busy": "2020-09-03T15:45:49.039255Z",
     "iopub.status.idle": "2020-09-03T15:45:51.934176Z",
     "shell.execute_reply": "2020-09-03T15:45:51.932815Z",
     "shell.execute_reply.started": "2020-09-03T15:45:49.039550Z"
    }
   },
   "outputs": [
    {
     "name": "stderr",
     "output_type": "stream",
     "text": [
      "/Users/decca/opt/anaconda3/lib/python3.7/site-packages/sklearn/utils/deprecation.py:143: FutureWarning: The sklearn.ensemble.forest module is  deprecated in version 0.22 and will be removed in version 0.24. The corresponding classes / functions should instead be imported from sklearn.ensemble. Anything that cannot be imported from sklearn.ensemble is now part of the private API.\n",
      "  warnings.warn(message, FutureWarning)\n"
     ]
    }
   ],
   "source": [
    "import pandas as pd\n",
    "import numpy as np\n",
    "import matplotlib.pyplot as plt\n",
    "import seaborn as sns\n",
    "from pylab import rcParams\n",
    "random_state = 42\n",
    "import autoreload\n",
    "%load_ext autoreload\n",
    "%autoreload 2\n",
    "import python_code.Scripts as sc\n",
    "import python_code.Reference as ref\n",
    "import pickle\n",
    "\n",
    "from sklearn.model_selection import train_test_split,cross_val_score,GridSearchCV\n",
    "from sklearn.metrics import accuracy_score,classification_report,confusion_matrix,recall_score,precision_score\n",
    "from treeinterpreter import treeinterpreter as ti\n",
    "from sklearn.preprocessing import StandardScaler\n",
    "from sklearn.decomposition import PCA\n",
    "\n",
    "from sklearn.linear_model import LogisticRegression\n",
    "from sklearn.tree import DecisionTreeClassifier,ExtraTreeClassifier\n",
    "from sklearn.ensemble import RandomForestClassifier,GradientBoostingClassifier,AdaBoostClassifier,BaggingClassifier, VotingClassifier\n",
    "from sklearn.svm import SVC\n",
    "from sklearn.naive_bayes import GaussianNB"
   ]
  },
  {
   "cell_type": "code",
   "execution_count": 2,
   "metadata": {
    "execution": {
     "iopub.execute_input": "2020-09-03T15:45:51.937495Z",
     "iopub.status.busy": "2020-09-03T15:45:51.936882Z",
     "iopub.status.idle": "2020-09-03T15:45:52.018674Z",
     "shell.execute_reply": "2020-09-03T15:45:52.016932Z",
     "shell.execute_reply.started": "2020-09-03T15:45:51.937436Z"
    }
   },
   "outputs": [],
   "source": [
    "df = pd.read_csv(\"./data/final.csv\")"
   ]
  },
  {
   "cell_type": "code",
   "execution_count": 3,
   "metadata": {
    "execution": {
     "iopub.execute_input": "2020-09-03T15:45:52.049415Z",
     "iopub.status.busy": "2020-09-03T15:45:52.048411Z",
     "iopub.status.idle": "2020-09-03T15:45:52.135204Z",
     "shell.execute_reply": "2020-09-03T15:45:52.133991Z",
     "shell.execute_reply.started": "2020-09-03T15:45:52.049350Z"
    }
   },
   "outputs": [
    {
     "name": "stdout",
     "output_type": "stream",
     "text": [
      "<class 'pandas.core.frame.DataFrame'>\n",
      "RangeIndex: 3904 entries, 0 to 3903\n",
      "Data columns (total 33 columns):\n",
      " #   Column    Non-Null Count  Dtype  \n",
      "---  ------    --------------  -----  \n",
      " 0   FSGRINC   3904 non-null   float64\n",
      " 1   REALPROP  3904 non-null   float64\n",
      " 2   FSGA      3904 non-null   float64\n",
      " 3   FSSSI     3904 non-null   float64\n",
      " 4   CERTHHSZ  3904 non-null   float64\n",
      " 5   FSDIS     3904 non-null   float64\n",
      " 6   FSSLTDE2  3904 non-null   float64\n",
      " 7   FSUNEARN  3904 non-null   float64\n",
      " 8   FSTOTDED  3904 non-null   float64\n",
      " 9   TANF_IND  3904 non-null   float64\n",
      " 10  LIQRESOR  3904 non-null   float64\n",
      " 11  FSWAGES   3904 non-null   float64\n",
      " 12  FSSLTDED  3904 non-null   float64\n",
      " 13  FSNONCIT  3904 non-null   float64\n",
      " 14  FSERNDED  3904 non-null   float64\n",
      " 15  FSEARN    3904 non-null   float64\n",
      " 16  FSTOTDE2  3904 non-null   float64\n",
      " 17  FSSTDDE2  3904 non-null   float64\n",
      " 18  FSERNDE2  3904 non-null   float64\n",
      " 19  FSUSIZE   3904 non-null   float64\n",
      " 20  WRK_POOR  3904 non-null   float64\n",
      " 21  FSASSET   3904 non-null   float64\n",
      " 22  FSTANF    3904 non-null   float64\n",
      " 23  HWGT      3904 non-null   float64\n",
      " 24  FSNELDER  3904 non-null   float64\n",
      " 25  SHELDED   3904 non-null   float64\n",
      " 26  TPOV      3904 non-null   float64\n",
      " 27  FSNETINC  3904 non-null   float64\n",
      " 28  RAWNET    3904 non-null   float64\n",
      " 29  RAWERND   3904 non-null   float64\n",
      " 30  CAT_ELIG  3904 non-null   float64\n",
      " 31  FSVEHAST  3904 non-null   float64\n",
      " 32  VEHICLEA  3904 non-null   float64\n",
      "dtypes: float64(33)\n",
      "memory usage: 1006.6 KB\n"
     ]
    }
   ],
   "source": [
    "df.info()"
   ]
  },
  {
   "cell_type": "markdown",
   "metadata": {},
   "source": [
    "# Data Prep <a id=dataprep></a>"
   ]
  },
  {
   "cell_type": "code",
   "execution_count": 4,
   "metadata": {
    "execution": {
     "iopub.execute_input": "2020-09-03T15:45:52.139298Z",
     "iopub.status.busy": "2020-09-03T15:45:52.137356Z",
     "iopub.status.idle": "2020-09-03T15:45:52.216892Z",
     "shell.execute_reply": "2020-09-03T15:45:52.215949Z",
     "shell.execute_reply.started": "2020-09-03T15:45:52.139242Z"
    }
   },
   "outputs": [],
   "source": [
    "X = df.drop(columns = ['CAT_ELIG'])\n",
    "y = df['CAT_ELIG']"
   ]
  },
  {
   "cell_type": "code",
   "execution_count": 5,
   "metadata": {
    "execution": {
     "iopub.execute_input": "2020-09-03T15:45:52.220126Z",
     "iopub.status.busy": "2020-09-03T15:45:52.219560Z",
     "iopub.status.idle": "2020-09-03T15:45:52.676883Z",
     "shell.execute_reply": "2020-09-03T15:45:52.674171Z",
     "shell.execute_reply.started": "2020-09-03T15:45:52.220058Z"
    }
   },
   "outputs": [
    {
     "data": {
      "text/plain": [
       "1.0    0.662398\n",
       "0.0    0.337602\n",
       "Name: CAT_ELIG, dtype: float64"
      ]
     },
     "execution_count": 5,
     "metadata": {},
     "output_type": "execute_result"
    }
   ],
   "source": [
    "#baseline, NULL Model\n",
    "y.value_counts(normalize=True)"
   ]
  },
  {
   "cell_type": "code",
   "execution_count": 6,
   "metadata": {
    "execution": {
     "iopub.execute_input": "2020-09-03T15:45:52.679610Z",
     "iopub.status.busy": "2020-09-03T15:45:52.679107Z",
     "iopub.status.idle": "2020-09-03T15:45:52.746188Z",
     "shell.execute_reply": "2020-09-03T15:45:52.743748Z",
     "shell.execute_reply.started": "2020-09-03T15:45:52.679562Z"
    }
   },
   "outputs": [],
   "source": [
    "X_train, X_test, y_train, y_test = train_test_split(X,y,test_size=.3,random_state=random_state)"
   ]
  },
  {
   "cell_type": "code",
   "execution_count": 7,
   "metadata": {
    "execution": {
     "iopub.execute_input": "2020-09-03T15:45:52.787288Z",
     "iopub.status.busy": "2020-09-03T15:45:52.786811Z",
     "iopub.status.idle": "2020-09-03T15:45:52.863663Z",
     "shell.execute_reply": "2020-09-03T15:45:52.846251Z",
     "shell.execute_reply.started": "2020-09-03T15:45:52.787260Z"
    }
   },
   "outputs": [],
   "source": [
    "ss = StandardScaler()\n",
    "X_train = ss.fit_transform(X_train)\n",
    "X_test = ss.transform(X_test)"
   ]
  },
  {
   "cell_type": "code",
   "execution_count": 8,
   "metadata": {
    "execution": {
     "iopub.execute_input": "2020-09-03T15:45:52.882706Z",
     "iopub.status.busy": "2020-09-03T15:45:52.882084Z",
     "iopub.status.idle": "2020-09-03T15:45:53.183481Z",
     "shell.execute_reply": "2020-09-03T15:45:53.182650Z",
     "shell.execute_reply.started": "2020-09-03T15:45:52.882661Z"
    }
   },
   "outputs": [],
   "source": [
    "np.savetxt('./data/TrainTest/X_train.csv',X_train,delimiter=',')\n",
    "np.savetxt('./data/TrainTest/y_train.csv',y_train,delimiter=',')\n",
    "np.savetxt('./data/TrainTest/X_test.csv',X_test,delimiter=',')\n",
    "np.savetxt('./data/TrainTest/y_test.csv',y_test,delimiter=',')"
   ]
  },
  {
   "cell_type": "code",
   "execution_count": 9,
   "metadata": {
    "execution": {
     "iopub.execute_input": "2020-09-03T15:45:53.190153Z",
     "iopub.status.busy": "2020-09-03T15:45:53.189602Z",
     "iopub.status.idle": "2020-09-03T15:45:53.314188Z",
     "shell.execute_reply": "2020-09-03T15:45:53.313475Z",
     "shell.execute_reply.started": "2020-09-03T15:45:53.190104Z"
    }
   },
   "outputs": [],
   "source": [
    "pca = PCA(n_components=10,random_state=42)\n",
    "pca.fit(X_train)\n",
    "X_train_pc = pca.transform(X_train)\n",
    "X_test_pc = pca.transform(X_test)"
   ]
  },
  {
   "cell_type": "markdown",
   "metadata": {},
   "source": [
    "# Models <a id=models></a>"
   ]
  },
  {
   "cell_type": "markdown",
   "metadata": {},
   "source": [
    "### _Overview model selection_ <a id=overviewmodel></a>"
   ]
  },
  {
   "cell_type": "markdown",
   "metadata": {
    "execution": {
     "iopub.execute_input": "2020-08-30T18:56:53.078658Z",
     "iopub.status.busy": "2020-08-30T18:56:53.078355Z",
     "iopub.status.idle": "2020-08-30T18:56:53.084321Z",
     "shell.execute_reply": "2020-08-30T18:56:53.082827Z",
     "shell.execute_reply.started": "2020-08-30T18:56:53.078633Z"
    }
   },
   "source": [
    "___White box models___\n",
    "- Logistic Regression\n",
    "- Decision Tree\n",
    "- Random Forest\n",
    "- Gradient\n",
    "- Ada\n",
    "- SVM\n",
    "- Naive Bayes\n"
   ]
  },
  {
   "cell_type": "code",
   "execution_count": 10,
   "metadata": {
    "execution": {
     "iopub.execute_input": "2020-09-03T15:45:53.328371Z",
     "iopub.status.busy": "2020-09-03T15:45:53.327843Z",
     "iopub.status.idle": "2020-09-03T15:45:53.407995Z",
     "shell.execute_reply": "2020-09-03T15:45:53.403387Z",
     "shell.execute_reply.started": "2020-09-03T15:45:53.328321Z"
    }
   },
   "outputs": [],
   "source": [
    "models = {\n",
    "    'LogReg': LogisticRegression(),\n",
    "    'Decision Tree':DecisionTreeClassifier(),\n",
    "    'Random Forest':RandomForestClassifier(),\n",
    "    'Gradient Boost':GradientBoostingClassifier(),\n",
    "    'Ada Boost':AdaBoostClassifier(),\n",
    "    'SVC':SVC(),\n",
    "    'Naive Bayes':GaussianNB()}"
   ]
  },
  {
   "cell_type": "code",
   "execution_count": 11,
   "metadata": {
    "execution": {
     "iopub.execute_input": "2020-09-03T15:45:53.411469Z",
     "iopub.status.busy": "2020-09-03T15:45:53.410092Z",
     "iopub.status.idle": "2020-09-03T15:46:03.614925Z",
     "shell.execute_reply": "2020-09-03T15:46:03.614055Z",
     "shell.execute_reply.started": "2020-09-03T15:45:53.411387Z"
    }
   },
   "outputs": [],
   "source": [
    "#adapted from Dan Brown lecture\n",
    "final = pd.DataFrame(columns = ['cross_val_train','cross_val_test','test_recall','test_precision'])\n",
    "idx=0\n",
    "while idx < len(models.keys()):\n",
    "    for name,model in models.items():\n",
    "        results = {}\n",
    "        results['name']=name\n",
    "        name=model.fit(X_train, y_train)\n",
    "        y_pred_train = model.predict(X_train)\n",
    "        y_pred_test = model.predict(X_test)\n",
    "        results['cross_val_train'] = np.mean(cross_val_score(model,X_train,y_train,cv=4))\n",
    "        results['cross_val_test'] = np.mean(cross_val_score(model,X_test,y_test,cv=4))\n",
    "        results['test_recall'] = recall_score(y_test, y_pred_test)\n",
    "        results['test_precision'] = precision_score(y_test, y_pred_test)\n",
    "        final = final.append(results,ignore_index=True)\n",
    "        idx+=1"
   ]
  },
  {
   "cell_type": "code",
   "execution_count": 12,
   "metadata": {
    "execution": {
     "iopub.execute_input": "2020-09-03T15:46:03.616715Z",
     "iopub.status.busy": "2020-09-03T15:46:03.616262Z",
     "iopub.status.idle": "2020-09-03T15:46:03.687886Z",
     "shell.execute_reply": "2020-09-03T15:46:03.686698Z",
     "shell.execute_reply.started": "2020-09-03T15:46:03.616666Z"
    }
   },
   "outputs": [
    {
     "data": {
      "text/html": [
       "<div>\n",
       "<style scoped>\n",
       "    .dataframe tbody tr th:only-of-type {\n",
       "        vertical-align: middle;\n",
       "    }\n",
       "\n",
       "    .dataframe tbody tr th {\n",
       "        vertical-align: top;\n",
       "    }\n",
       "\n",
       "    .dataframe thead th {\n",
       "        text-align: right;\n",
       "    }\n",
       "</style>\n",
       "<table border=\"1\" class=\"dataframe\">\n",
       "  <thead>\n",
       "    <tr style=\"text-align: right;\">\n",
       "      <th></th>\n",
       "      <th>cross_val_train</th>\n",
       "      <th>cross_val_test</th>\n",
       "      <th>test_recall</th>\n",
       "      <th>test_precision</th>\n",
       "    </tr>\n",
       "    <tr>\n",
       "      <th>name</th>\n",
       "      <th></th>\n",
       "      <th></th>\n",
       "      <th></th>\n",
       "      <th></th>\n",
       "    </tr>\n",
       "  </thead>\n",
       "  <tbody>\n",
       "    <tr>\n",
       "      <th>LogReg</th>\n",
       "      <td>0.884334</td>\n",
       "      <td>0.862628</td>\n",
       "      <td>0.900262</td>\n",
       "      <td>0.903821</td>\n",
       "    </tr>\n",
       "    <tr>\n",
       "      <th>Decision Tree</th>\n",
       "      <td>0.907760</td>\n",
       "      <td>0.913823</td>\n",
       "      <td>0.943570</td>\n",
       "      <td>0.941099</td>\n",
       "    </tr>\n",
       "    <tr>\n",
       "      <th>Random Forest</th>\n",
       "      <td>0.942533</td>\n",
       "      <td>0.934300</td>\n",
       "      <td>0.965879</td>\n",
       "      <td>0.955844</td>\n",
       "    </tr>\n",
       "    <tr>\n",
       "      <th>Gradient Boost</th>\n",
       "      <td>0.940337</td>\n",
       "      <td>0.927474</td>\n",
       "      <td>0.950131</td>\n",
       "      <td>0.961487</td>\n",
       "    </tr>\n",
       "    <tr>\n",
       "      <th>Ada Boost</th>\n",
       "      <td>0.922035</td>\n",
       "      <td>0.920648</td>\n",
       "      <td>0.937008</td>\n",
       "      <td>0.939474</td>\n",
       "    </tr>\n",
       "    <tr>\n",
       "      <th>SVC</th>\n",
       "      <td>0.884700</td>\n",
       "      <td>0.854949</td>\n",
       "      <td>0.901575</td>\n",
       "      <td>0.928378</td>\n",
       "    </tr>\n",
       "    <tr>\n",
       "      <th>Naive Bayes</th>\n",
       "      <td>0.767204</td>\n",
       "      <td>0.741468</td>\n",
       "      <td>0.833333</td>\n",
       "      <td>0.908441</td>\n",
       "    </tr>\n",
       "  </tbody>\n",
       "</table>\n",
       "</div>"
      ],
      "text/plain": [
       "                cross_val_train  cross_val_test  test_recall  test_precision\n",
       "name                                                                        \n",
       "LogReg                 0.884334        0.862628     0.900262        0.903821\n",
       "Decision Tree          0.907760        0.913823     0.943570        0.941099\n",
       "Random Forest          0.942533        0.934300     0.965879        0.955844\n",
       "Gradient Boost         0.940337        0.927474     0.950131        0.961487\n",
       "Ada Boost              0.922035        0.920648     0.937008        0.939474\n",
       "SVC                    0.884700        0.854949     0.901575        0.928378\n",
       "Naive Bayes            0.767204        0.741468     0.833333        0.908441"
      ]
     },
     "execution_count": 12,
     "metadata": {},
     "output_type": "execute_result"
    }
   ],
   "source": [
    "final.set_index('name')"
   ]
  },
  {
   "cell_type": "markdown",
   "metadata": {},
   "source": [
    "Adding PCA to the data and comparing the scores:"
   ]
  },
  {
   "cell_type": "code",
   "execution_count": 13,
   "metadata": {
    "execution": {
     "iopub.execute_input": "2020-09-03T15:46:03.690663Z",
     "iopub.status.busy": "2020-09-03T15:46:03.690140Z",
     "iopub.status.idle": "2020-09-03T15:46:14.220533Z",
     "shell.execute_reply": "2020-09-03T15:46:14.219665Z",
     "shell.execute_reply.started": "2020-09-03T15:46:03.690621Z"
    }
   },
   "outputs": [],
   "source": [
    "pc_final = pd.DataFrame(columns = ['cross_val_train','cross_val_test','test_recall','test_precision'])\n",
    "idx=0\n",
    "while idx < len(models.keys()):\n",
    "    for name,model in models.items():\n",
    "        results = {}\n",
    "        results['name']=name\n",
    "        name=model.fit(X_train_pc, y_train)\n",
    "        y_pred_train = model.predict(X_train_pc)\n",
    "        y_pred_test = model.predict(X_test_pc)\n",
    "        results['cross_val_train'] = np.mean(cross_val_score(model,X_train_pc,y_train,cv=4))\n",
    "        results['cross_val_test'] = np.mean(cross_val_score(model,X_test_pc,y_test,cv=4))\n",
    "        results['test_recall'] = recall_score(y_test, y_pred_test)\n",
    "        results['test_precision'] = precision_score(y_test, y_pred_test)\n",
    "        pc_final = pc_final.append(results,ignore_index=True)\n",
    "        idx+=1"
   ]
  },
  {
   "cell_type": "code",
   "execution_count": 14,
   "metadata": {
    "execution": {
     "iopub.execute_input": "2020-09-03T15:46:14.222276Z",
     "iopub.status.busy": "2020-09-03T15:46:14.221828Z",
     "iopub.status.idle": "2020-09-03T15:46:14.277573Z",
     "shell.execute_reply": "2020-09-03T15:46:14.276465Z",
     "shell.execute_reply.started": "2020-09-03T15:46:14.222229Z"
    }
   },
   "outputs": [
    {
     "data": {
      "text/html": [
       "<div>\n",
       "<style scoped>\n",
       "    .dataframe tbody tr th:only-of-type {\n",
       "        vertical-align: middle;\n",
       "    }\n",
       "\n",
       "    .dataframe tbody tr th {\n",
       "        vertical-align: top;\n",
       "    }\n",
       "\n",
       "    .dataframe thead th {\n",
       "        text-align: right;\n",
       "    }\n",
       "</style>\n",
       "<table border=\"1\" class=\"dataframe\">\n",
       "  <thead>\n",
       "    <tr style=\"text-align: right;\">\n",
       "      <th></th>\n",
       "      <th>cross_val_train</th>\n",
       "      <th>cross_val_test</th>\n",
       "      <th>test_recall</th>\n",
       "      <th>test_precision</th>\n",
       "    </tr>\n",
       "    <tr>\n",
       "      <th>name</th>\n",
       "      <th></th>\n",
       "      <th></th>\n",
       "      <th></th>\n",
       "      <th></th>\n",
       "    </tr>\n",
       "  </thead>\n",
       "  <tbody>\n",
       "    <tr>\n",
       "      <th>LogReg</th>\n",
       "      <td>0.783675</td>\n",
       "      <td>0.763652</td>\n",
       "      <td>0.892388</td>\n",
       "      <td>0.770102</td>\n",
       "    </tr>\n",
       "    <tr>\n",
       "      <th>Decision Tree</th>\n",
       "      <td>0.826867</td>\n",
       "      <td>0.816553</td>\n",
       "      <td>0.892388</td>\n",
       "      <td>0.868455</td>\n",
       "    </tr>\n",
       "    <tr>\n",
       "      <th>Random Forest</th>\n",
       "      <td>0.883236</td>\n",
       "      <td>0.860068</td>\n",
       "      <td>0.929134</td>\n",
       "      <td>0.898477</td>\n",
       "    </tr>\n",
       "    <tr>\n",
       "      <th>Gradient Boost</th>\n",
       "      <td>0.877379</td>\n",
       "      <td>0.860068</td>\n",
       "      <td>0.908136</td>\n",
       "      <td>0.882653</td>\n",
       "    </tr>\n",
       "    <tr>\n",
       "      <th>Ada Boost</th>\n",
       "      <td>0.852855</td>\n",
       "      <td>0.848123</td>\n",
       "      <td>0.900262</td>\n",
       "      <td>0.879487</td>\n",
       "    </tr>\n",
       "    <tr>\n",
       "      <th>SVC</th>\n",
       "      <td>0.831991</td>\n",
       "      <td>0.834471</td>\n",
       "      <td>0.874016</td>\n",
       "      <td>0.871728</td>\n",
       "    </tr>\n",
       "    <tr>\n",
       "      <th>Naive Bayes</th>\n",
       "      <td>0.726940</td>\n",
       "      <td>0.713311</td>\n",
       "      <td>0.958005</td>\n",
       "      <td>0.692600</td>\n",
       "    </tr>\n",
       "  </tbody>\n",
       "</table>\n",
       "</div>"
      ],
      "text/plain": [
       "                cross_val_train  cross_val_test  test_recall  test_precision\n",
       "name                                                                        \n",
       "LogReg                 0.783675        0.763652     0.892388        0.770102\n",
       "Decision Tree          0.826867        0.816553     0.892388        0.868455\n",
       "Random Forest          0.883236        0.860068     0.929134        0.898477\n",
       "Gradient Boost         0.877379        0.860068     0.908136        0.882653\n",
       "Ada Boost              0.852855        0.848123     0.900262        0.879487\n",
       "SVC                    0.831991        0.834471     0.874016        0.871728\n",
       "Naive Bayes            0.726940        0.713311     0.958005        0.692600"
      ]
     },
     "execution_count": 14,
     "metadata": {},
     "output_type": "execute_result"
    }
   ],
   "source": [
    "pc_final.set_index('name')"
   ]
  },
  {
   "cell_type": "markdown",
   "metadata": {},
   "source": [
    "### _Model Selection_  <a id=modelsel></a>\n",
    "\n",
    "The best performing models are Random Forest and Gradient Boost without PCA.  PCA seemed to exaggerate overfitting on all models. The Gradient Boost has the least overfitting.  Therefore, I will GridSearch over a RandomForest with Gradient Boost.  Just to make sure, I will check out the classification report for each model to verify each class is represented fairly well."
   ]
  },
  {
   "cell_type": "code",
   "execution_count": 15,
   "metadata": {
    "execution": {
     "iopub.execute_input": "2020-09-03T15:46:14.280467Z",
     "iopub.status.busy": "2020-09-03T15:46:14.279920Z",
     "iopub.status.idle": "2020-09-03T15:46:16.227720Z",
     "shell.execute_reply": "2020-09-03T15:46:16.226126Z",
     "shell.execute_reply.started": "2020-09-03T15:46:14.280422Z"
    }
   },
   "outputs": [
    {
     "name": "stdout",
     "output_type": "stream",
     "text": [
      "LogisticRegression()\n",
      "              precision    recall  f1-score   support\n",
      "\n",
      "         0.0       0.82      0.82      0.82       410\n",
      "         1.0       0.90      0.90      0.90       762\n",
      "\n",
      "    accuracy                           0.87      1172\n",
      "   macro avg       0.86      0.86      0.86      1172\n",
      "weighted avg       0.87      0.87      0.87      1172\n",
      "\n",
      "\n",
      "\n",
      "DecisionTreeClassifier()\n",
      "              precision    recall  f1-score   support\n",
      "\n",
      "         0.0       0.88      0.89      0.89       410\n",
      "         1.0       0.94      0.93      0.94       762\n",
      "\n",
      "    accuracy                           0.92      1172\n",
      "   macro avg       0.91      0.91      0.91      1172\n",
      "weighted avg       0.92      0.92      0.92      1172\n",
      "\n",
      "\n",
      "\n",
      "RandomForestClassifier()\n",
      "              precision    recall  f1-score   support\n",
      "\n",
      "         0.0       0.92      0.93      0.93       410\n",
      "         1.0       0.96      0.96      0.96       762\n",
      "\n",
      "    accuracy                           0.95      1172\n",
      "   macro avg       0.94      0.94      0.94      1172\n",
      "weighted avg       0.95      0.95      0.95      1172\n",
      "\n",
      "\n",
      "\n",
      "GradientBoostingClassifier()\n",
      "              precision    recall  f1-score   support\n",
      "\n",
      "         0.0       0.91      0.93      0.92       410\n",
      "         1.0       0.96      0.95      0.96       762\n",
      "\n",
      "    accuracy                           0.94      1172\n",
      "   macro avg       0.93      0.94      0.94      1172\n",
      "weighted avg       0.94      0.94      0.94      1172\n",
      "\n",
      "\n",
      "\n",
      "AdaBoostClassifier()\n",
      "              precision    recall  f1-score   support\n",
      "\n",
      "         0.0       0.88      0.89      0.89       410\n",
      "         1.0       0.94      0.94      0.94       762\n",
      "\n",
      "    accuracy                           0.92      1172\n",
      "   macro avg       0.91      0.91      0.91      1172\n",
      "weighted avg       0.92      0.92      0.92      1172\n",
      "\n",
      "\n",
      "\n",
      "SVC()\n",
      "              precision    recall  f1-score   support\n",
      "\n",
      "         0.0       0.83      0.87      0.85       410\n",
      "         1.0       0.93      0.90      0.91       762\n",
      "\n",
      "    accuracy                           0.89      1172\n",
      "   macro avg       0.88      0.89      0.88      1172\n",
      "weighted avg       0.89      0.89      0.89      1172\n",
      "\n",
      "\n",
      "\n",
      "GaussianNB()\n",
      "              precision    recall  f1-score   support\n",
      "\n",
      "         0.0       0.73      0.84      0.78       410\n",
      "         1.0       0.91      0.83      0.87       762\n",
      "\n",
      "    accuracy                           0.84      1172\n",
      "   macro avg       0.82      0.84      0.83      1172\n",
      "weighted avg       0.85      0.84      0.84      1172\n",
      "\n",
      "\n",
      "\n"
     ]
    }
   ],
   "source": [
    "for name,model in models.items():\n",
    "    name = model.fit(X_train,y_train)\n",
    "    y_pred_train = model.predict(X_train)\n",
    "    y_pred_test = model.predict(X_test)\n",
    "    print(name)\n",
    "    print(classification_report(y_test, y_pred_test))\n",
    "    print('\\n')"
   ]
  },
  {
   "cell_type": "markdown",
   "metadata": {},
   "source": [
    "What we see is that Random Forest and Gradient Boosting represent the classes most fairly among all other models.  Since there is an inbalance of classes for the target variable (2007 data had some people who qualified and some who didn't, whereas everyone qualified for SNAP in 2017) I would expect boosting would be essential to this model."
   ]
  },
  {
   "cell_type": "markdown",
   "metadata": {},
   "source": [
    "# Running models  <a id=runmodel></a>"
   ]
  },
  {
   "cell_type": "markdown",
   "metadata": {},
   "source": [
    "### _Random forest_  <a id=rfc></a>\n",
    "\n",
    "I will start with Random Forest for interpretability."
   ]
  },
  {
   "cell_type": "code",
   "execution_count": 16,
   "metadata": {
    "execution": {
     "iopub.execute_input": "2020-09-03T15:46:16.231026Z",
     "iopub.status.busy": "2020-09-03T15:46:16.229791Z",
     "iopub.status.idle": "2020-09-03T15:47:08.539879Z",
     "shell.execute_reply": "2020-09-03T15:47:08.538467Z",
     "shell.execute_reply.started": "2020-09-03T15:46:16.230864Z"
    }
   },
   "outputs": [
    {
     "name": "stdout",
     "output_type": "stream",
     "text": [
      "0.9454600853138331\n"
     ]
    },
    {
     "data": {
      "text/plain": [
       "{'max_depth': None, 'max_features': 'auto', 'n_estimators': 75}"
      ]
     },
     "execution_count": 16,
     "metadata": {},
     "output_type": "execute_result"
    }
   ],
   "source": [
    "rf = RandomForestClassifier()\n",
    "params={'max_depth':[None,3,4],\n",
    "       'max_features':[None,'auto'],\n",
    "       'n_estimators':[75,100,125]}\n",
    "rf_gs = GridSearchCV(rf,param_grid=params)\n",
    "rf_gs.fit(X_train,y_train)\n",
    "print(rf_gs.best_score_)\n",
    "rf_gs.best_params_"
   ]
  },
  {
   "cell_type": "markdown",
   "metadata": {},
   "source": [
    "The result shows the defaults were the best model."
   ]
  },
  {
   "cell_type": "code",
   "execution_count": 17,
   "metadata": {
    "execution": {
     "iopub.execute_input": "2020-09-03T15:47:08.544813Z",
     "iopub.status.busy": "2020-09-03T15:47:08.544271Z",
     "iopub.status.idle": "2020-09-03T15:47:09.139341Z",
     "shell.execute_reply": "2020-09-03T15:47:09.138118Z",
     "shell.execute_reply.started": "2020-09-03T15:47:08.544754Z"
    }
   },
   "outputs": [
    {
     "data": {
      "text/plain": [
       "RandomForestClassifier()"
      ]
     },
     "execution_count": 17,
     "metadata": {},
     "output_type": "execute_result"
    }
   ],
   "source": [
    "rf = RandomForestClassifier()\n",
    "rf.fit(X_train,y_train)"
   ]
  },
  {
   "cell_type": "markdown",
   "metadata": {},
   "source": [
    "Following code adapted from [Demystify the random forest](https://www.kaggle.com/akashram/demystify-the-random-forest) and [Visualizing Dot-Whisker Regression Coefficients in Python](https://zhiyzuo.github.io/Python-Plot-Regression-Coefficient/)"
   ]
  },
  {
   "cell_type": "code",
   "execution_count": 18,
   "metadata": {
    "execution": {
     "iopub.execute_input": "2020-09-03T15:47:09.145572Z",
     "iopub.status.busy": "2020-09-03T15:47:09.140586Z",
     "iopub.status.idle": "2020-09-03T15:47:09.200945Z",
     "shell.execute_reply": "2020-09-03T15:47:09.199706Z",
     "shell.execute_reply.started": "2020-09-03T15:47:09.145491Z"
    }
   },
   "outputs": [
    {
     "data": {
      "text/plain": [
       "array([[-1.25472977, -0.03517855, -0.1335093 , -0.42833737,  1.02614408,\n",
       "        -0.51403261, -0.87253073, -0.91848291,  0.39411313, -0.36488324,\n",
       "        -0.24501332, -0.55893964,  1.0459183 ,  1.78070948, -0.59758589,\n",
       "        -0.59800159, -1.28640995, -1.59315573, -0.56404251,  1.02614408,\n",
       "        -0.76825854, -0.24309398, -0.34230342, -0.51614194, -0.40909055,\n",
       "         1.00652396, -1.49056789, -0.8826584 , -0.88061189, -0.59885312,\n",
       "        -0.02833014, -0.35352552]])"
      ]
     },
     "execution_count": 18,
     "metadata": {},
     "output_type": "execute_result"
    }
   ],
   "source": [
    "instances = X_test[[735]]\n",
    "instances"
   ]
  },
  {
   "cell_type": "code",
   "execution_count": 19,
   "metadata": {
    "execution": {
     "iopub.execute_input": "2020-09-03T15:47:09.209449Z",
     "iopub.status.busy": "2020-09-03T15:47:09.202196Z",
     "iopub.status.idle": "2020-09-03T15:47:09.485202Z",
     "shell.execute_reply": "2020-09-03T15:47:09.483161Z",
     "shell.execute_reply.started": "2020-09-03T15:47:09.208916Z"
    }
   },
   "outputs": [
    {
     "name": "stdout",
     "output_type": "stream",
     "text": [
      "Prediction [[0.63 0.37]]\n",
      "Bias (trainset prior) [[0.33179356 0.66820644]]\n",
      "Feature contributions:\n",
      "FSGRINC [ 0.00101856 -0.00101856]\n",
      "REALPROP [0. 0.]\n",
      "FSGA [ 0.00418878 -0.00418878]\n",
      "FSSSI [ 0.01309253 -0.01309253]\n",
      "CERTHHSZ [ 0.0262957 -0.0262957]\n",
      "FSDIS [ 0.00263219 -0.00263219]\n",
      "FSSLTDE2 [-0.00625606  0.00625606]\n",
      "FSUNEARN [ 0.0326217 -0.0326217]\n",
      "FSTOTDED [-0.05840197  0.05840197]\n",
      "TANF_IND [ 0.01607689 -0.01607689]\n",
      "LIQRESOR [-0.02204246  0.02204246]\n",
      "FSWAGES [-0.00399179  0.00399179]\n",
      "FSSLTDED [ 0.11105917 -0.11105917]\n",
      "FSNONCIT [ 0.00639098 -0.00639098]\n",
      "FSERNDED [-0.00217986  0.00217986]\n",
      "FSEARN [-0.012072  0.012072]\n",
      "FSTOTDE2 [ 0.01052122 -0.01052122]\n",
      "FSSTDDE2 [ 0.03648276 -0.03648276]\n",
      "FSERNDE2 [-0.00600816  0.00600816]\n",
      "FSUSIZE [ 0.01647 -0.01647]\n",
      "WRK_POOR [-0.00850344  0.00850344]\n",
      "FSASSET [-0.0245858  0.0245858]\n",
      "FSTANF [ 0.02930317 -0.02930317]\n",
      "HWGT [ 0.04318954 -0.04318954]\n",
      "FSNELDER [ 0.00107899 -0.00107899]\n",
      "SHELDED [ 0.1017754 -0.1017754]\n",
      "TPOV [ 0.00784386 -0.00784386]\n",
      "FSNETINC [-0.00079596  0.00079596]\n",
      "RAWNET [-0.01743625  0.01743625]\n",
      "RAWERND [-0.00714314  0.00714314]\n",
      "FSVEHAST [0. 0.]\n",
      "VEHICLEA [ 0.0075819 -0.0075819]\n"
     ]
    }
   ],
   "source": [
    "ft_list = []\n",
    "prediction, bias, contributions = ti.predict(rf, instances)\n",
    "print( \"Prediction\", prediction)\n",
    "print( \"Bias (trainset prior)\", bias)\n",
    "print (\"Feature contributions:\")\n",
    "for c, feature in zip(contributions[0], \n",
    "                             X.columns):\n",
    "    ft_list.append((feature, np.round(c, 2)))\n",
    "    print (feature, c)\n",
    "    \n",
    "labels, values = zip(*ft_list)"
   ]
  },
  {
   "cell_type": "code",
   "execution_count": 27,
   "metadata": {
    "execution": {
     "iopub.execute_input": "2020-09-03T15:51:19.799428Z",
     "iopub.status.busy": "2020-09-03T15:51:19.799102Z",
     "iopub.status.idle": "2020-09-03T15:51:20.696439Z",
     "shell.execute_reply": "2020-09-03T15:51:20.695659Z",
     "shell.execute_reply.started": "2020-09-03T15:51:19.799400Z"
    }
   },
   "outputs": [],
   "source": [
    "df1 = pd.DataFrame(ft_list,columns=['feature','array'])\n",
    "df2 = pd.DataFrame(df1[\"array\"].to_list(), columns=['pred_0', 'pred_1'])\n",
    "coef_df = pd.concat([df1,df2],axis=1).drop(columns=['array'])\n",
    "coef_df.to_csv('./data/2018_indicators/coef.csv',index=None)"
   ]
  },
  {
   "cell_type": "code",
   "execution_count": 21,
   "metadata": {
    "execution": {
     "iopub.execute_input": "2020-09-03T15:47:09.575575Z",
     "iopub.status.busy": "2020-09-03T15:47:09.575000Z",
     "iopub.status.idle": "2020-09-03T15:47:10.319158Z",
     "shell.execute_reply": "2020-09-03T15:47:10.317785Z",
     "shell.execute_reply.started": "2020-09-03T15:47:09.575513Z"
    }
   },
   "outputs": [
    {
     "data": {
      "image/png": "[encoded data removed]",
      "text/plain": [
       "<Figure size 1440x720 with 1 Axes>"
      ]
     },
     "metadata": {
      "needs_background": "light"
     },
     "output_type": "display_data"
    }
   ],
   "source": [
    "fig, ax = plt.subplots(figsize=(20,10))\n",
    "plt.title('Random Forest range of Coefficients Effect on SNAP \\n (the larger the range, the more impact on predicting SNAP)')\n",
    "plt.grid(zorder=0,alpha = 0.2)\n",
    "xs = np.arange(len(labels))\n",
    "ax.bar(xs,coef_df['pred_0'], label = 'pred 0')\n",
    "ax.bar(xs,coef_df['pred_1'],label = 'pred 1')\n",
    "ax.axhline(y=0, linestyle='--', color='black', linewidth=4)\n",
    "ax.set_xticks(coef_df.index)\n",
    "ax.set_xticklabels(coef_df['feature'],rotation = 45)\n",
    "plt.legend()\n",
    "plt.savefig('./images/rf_corr.png');"
   ]
  },
  {
   "cell_type": "markdown",
   "metadata": {},
   "source": [
    "### _Extra Tree Classifier_ <a id=etc></a>\n",
    "\n",
    "I will compare a gridsearch Extra Tree classifier to see if it should be added to the ensemble. "
   ]
  },
  {
   "cell_type": "code",
   "execution_count": 22,
   "metadata": {
    "execution": {
     "iopub.execute_input": "2020-09-03T15:47:10.324099Z",
     "iopub.status.busy": "2020-09-03T15:47:10.322291Z",
     "iopub.status.idle": "2020-09-03T15:47:10.624728Z",
     "shell.execute_reply": "2020-09-03T15:47:10.623656Z",
     "shell.execute_reply.started": "2020-09-03T15:47:10.324057Z"
    }
   },
   "outputs": [
    {
     "name": "stdout",
     "output_type": "stream",
     "text": [
      "0.8275736451239194\n"
     ]
    },
    {
     "data": {
      "text/plain": [
       "{'max_depth': None, 'max_features': None, 'max_leaf_nodes': 10}"
      ]
     },
     "execution_count": 22,
     "metadata": {},
     "output_type": "execute_result"
    }
   ],
   "source": [
    "et = ExtraTreeClassifier()\n",
    "params={'max_depth':[None,3,4],\n",
    "       'max_features':[None,'auto'],\n",
    "       'max_leaf_nodes':[5,10]}\n",
    "et_gs = GridSearchCV(et,param_grid=params)\n",
    "et_gs.fit(X_train,y_train)\n",
    "print(et_gs.best_score_)\n",
    "et_gs.best_params_"
   ]
  },
  {
   "cell_type": "markdown",
   "metadata": {},
   "source": [
    "It seems the random with replacement that isn't offered in the Extra Tree Classifier is important to predicting SNAP eligibility.  Further magnifying the more than slight class imbalance of the target column.  Therefore, Extra Tree Classifier will not be used in the Ensemble."
   ]
  },
  {
   "cell_type": "markdown",
   "metadata": {},
   "source": [
    "### _Bagging Classifier_  <a id=bag></a>\n",
    "\n",
    "Since there is slight overfitting due to less variability in my target class, I will test a bagging classifier to see if I should place it in my Vote Ensemble."
   ]
  },
  {
   "cell_type": "code",
   "execution_count": 23,
   "metadata": {
    "execution": {
     "iopub.execute_input": "2020-09-03T15:47:10.626599Z",
     "iopub.status.busy": "2020-09-03T15:47:10.626004Z",
     "iopub.status.idle": "2020-09-03T15:47:10.895595Z",
     "shell.execute_reply": "2020-09-03T15:47:10.894408Z",
     "shell.execute_reply.started": "2020-09-03T15:47:10.626566Z"
    }
   },
   "outputs": [
    {
     "name": "stdout",
     "output_type": "stream",
     "text": [
      "cross_val_train = 0.7269399707174231\n",
      "cross_val_test = 0.7133105802047782\n",
      "test_recall = 0.9501312335958005\n",
      "test_precision = 0.9551451187335093\n"
     ]
    }
   ],
   "source": [
    "bag = BaggingClassifier()\n",
    "bag.fit(X_train,y_train)\n",
    "y_pred_train = bag.predict(X_train)\n",
    "y_pred_test = bag.predict(X_test)\n",
    "print(f'cross_val_train = {np.mean(cross_val_score(model,X_train_pc,y_train,cv=4))}')\n",
    "print(f'cross_val_test = {np.mean(cross_val_score(model,X_test_pc,y_test,cv=4))}')\n",
    "print(f'test_recall = {recall_score(y_test, y_pred_test)}')\n",
    "print(f'test_precision = {precision_score(y_test, y_pred_test)}')"
   ]
  },
  {
   "cell_type": "markdown",
   "metadata": {},
   "source": [
    "The cross val score is actually pretty low for both train and test, but it doesn't appear to be overfitting.  The test recall and precision is actually very high, meaning it is predicting positives very acurately.  I will therefore add it to my vote ensemble.  Because predicting positive (ie. those that are projected to be on SNAP) is more beneficial in targeting groups that are at risk.  "
   ]
  },
  {
   "cell_type": "markdown",
   "metadata": {},
   "source": [
    "### _Vote Ensemble Random Forest_  <a id=vote></a>\n",
    "\n",
    "Now I am moving into the black box models by gridsearching through a Gradient Boosting and Bagging Classifier Vote Ensemble. Which was run in another [notebook](http://localhost:8888/lab/tree/data/TrainTest/VoteEnsemble.ipynb).  I also have the same notebook as a backup python script in case the Gridsearch was not able to complete on my local machine I could run the python script in AWS.  The results of that script are as follows:\n",
    "```python\n",
    "0.9509512425417362\n",
    "{'bag__n_estimators': 10,\n",
    " 'gb__max_depth': 10,\n",
    " 'gb__subsample': 0.8,\n",
    " 'rf__bootstrap': False,\n",
    " 'rf__max_depth': None,\n",
    " 'rf__n_estimators': 1000}\n",
    "```"
   ]
  },
  {
   "cell_type": "markdown",
   "metadata": {
    "execution": {
     "iopub.execute_input": "2020-09-02T13:55:45.119790Z",
     "iopub.status.busy": "2020-09-02T13:55:45.119436Z",
     "iopub.status.idle": "2020-09-02T13:55:45.125868Z",
     "shell.execute_reply": "2020-09-02T13:55:45.123471Z",
     "shell.execute_reply.started": "2020-09-02T13:55:45.119756Z"
    }
   },
   "source": [
    "# Final Model  <a id=final></a>"
   ]
  },
  {
   "cell_type": "code",
   "execution_count": 24,
   "metadata": {
    "execution": {
     "iopub.execute_input": "2020-09-03T15:47:10.909802Z",
     "iopub.status.busy": "2020-09-03T15:47:10.897078Z",
     "iopub.status.idle": "2020-09-03T15:47:10.962215Z",
     "shell.execute_reply": "2020-09-03T15:47:10.961236Z",
     "shell.execute_reply.started": "2020-09-03T15:47:10.909712Z"
    }
   },
   "outputs": [],
   "source": [
    "vote = VotingClassifier([\n",
    "    ('rf',RandomForestClassifier(bootstrap=False,n_estimators=1000)),\n",
    "    ('gb',GradientBoostingClassifier(max_depth=10,subsample=0.8)),\n",
    "    ('bag',BaggingClassifier(n_estimators = 10))\n",
    "])"
   ]
  },
  {
   "cell_type": "code",
   "execution_count": 25,
   "metadata": {
    "execution": {
     "iopub.execute_input": "2020-09-03T15:47:10.964235Z",
     "iopub.status.busy": "2020-09-03T15:47:10.963627Z",
     "iopub.status.idle": "2020-09-03T15:47:19.603027Z",
     "shell.execute_reply": "2020-09-03T15:47:19.601667Z",
     "shell.execute_reply.started": "2020-09-03T15:47:10.964181Z"
    }
   },
   "outputs": [
    {
     "data": {
      "text/plain": [
       "VotingClassifier(estimators=[('rf',\n",
       "                              RandomForestClassifier(bootstrap=False,\n",
       "                                                     n_estimators=1000)),\n",
       "                             ('gb',\n",
       "                              GradientBoostingClassifier(max_depth=10,\n",
       "                                                         subsample=0.8)),\n",
       "                             ('bag', BaggingClassifier())])"
      ]
     },
     "execution_count": 25,
     "metadata": {},
     "output_type": "execute_result"
    }
   ],
   "source": [
    "vote.fit(X_train,y_train)"
   ]
  },
  {
   "cell_type": "code",
   "execution_count": 26,
   "metadata": {
    "execution": {
     "iopub.execute_input": "2020-09-03T15:47:19.605744Z",
     "iopub.status.busy": "2020-09-03T15:47:19.604944Z",
     "iopub.status.idle": "2020-09-03T15:47:19.860419Z",
     "shell.execute_reply": "2020-09-03T15:47:19.859554Z",
     "shell.execute_reply.started": "2020-09-03T15:47:19.605688Z"
    }
   },
   "outputs": [],
   "source": [
    "filename = 'final_model.sav'\n",
    "pickle.dump(vote, open(filename, 'wb'))"
   ]
  },
  {
   "cell_type": "code",
   "execution_count": null,
   "metadata": {},
   "outputs": [],
   "source": []
  }
 ],
 "metadata": {
  "kernelspec": {
   "display_name": "Python 3",
   "language": "python",
   "name": "python3"
  },
  "language_info": {
   "codemirror_mode": {
    "name": "ipython",
    "version": 3
   },
   "file_extension": ".py",
   "mimetype": "text/x-python",
   "name": "python",
   "nbconvert_exporter": "python",
   "pygments_lexer": "ipython3",
   "version": "3.7.7"
  }
 },
 "nbformat": 4,
 "nbformat_minor": 4
}
