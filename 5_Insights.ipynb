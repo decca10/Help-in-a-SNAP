{
 "cells": [
  {
   "cell_type": "markdown",
   "metadata": {},
   "source": [
    "# Insights and Conclusions"
   ]
  },
  {
   "cell_type": "markdown",
   "metadata": {},
   "source": [
    "I started this project thinking i would see specific demographics at play.  I expected to see certain ethnic groups or regions at risk, maybe single moms or large families being high risk of food insecurity options.  But what I saw was unexpected.  \n",
    "\n",
    "My initial graphs showed that most families are smaller in size, not alot of them are taking care of elderly relatives, and almost 100% of people in the household are US citizens:\n",
    "\n",
    "<img src=\"images/ind_features/elderly.png\" />\n",
    "<img src=\"images/ind_features/no_children.png\" />\n",
    "<img src=\"images/ind_features/no_toddler.png\" />\n",
    "<img src=\"images/ind_features/non_citiz.png\" />\n",
    "\n",
    "While there were quite a few single moms, less in 2017 than 2007 (perhaps due to new opportunties for single mom's to find economic opportunities):\n",
    "<img src=\"images/ind_features/single_mom.png\" />"
   ]
  },
  {
   "cell_type": "markdown",
   "metadata": {},
   "source": [
    "When putting together the correlations, I saw even more unique patterns.  \n",
    "1. New Mexico saw about 100 LESS working poor on SNAP in 2017. While Nebraska saw about 50 MORE in 2017.\n",
    "2. In 2007, SNAP recipients were receiving less assistance from other welfare programs than in 2017.\n",
    "\n",
    "<img src=\"images/ind_features/wrk_pr.png\" />\n",
    "<img src=\"images/ind_features/unit_unearn.png\" />"
   ]
  },
  {
   "cell_type": "markdown",
   "metadata": {},
   "source": [
    "After combining the data into a single dataset, I tested a few models and ended up with a Random Forest, Gradient Boost and Bagging Classifier wrapped up into a Vote Classifier.  Upon doing a gridsearch for the best hyperparameters, I was surprised to discover that bootstrapping in the Random Forest was not optimal, but using bootstrapping within the Bagging Classifier improved performance.  I ended up with a cross validated accuracy score of 95%, and the Bagging Classifier had boosted precision and recall to 95%.  \n",
    "\n",
    "My intention was to use an interpretable model, at the sacrifice of a more perfect prediction, to understand which features were most impactful on predicting those who would need SNAP assistance:\n",
    "\n",
    "<img src=\"images/rf_corr.png\" />\n",
    "\n",
    "The most surprising result was that the top 4 impactful coefficients, using sklearn.treeinterpreter, had to do with housing.\n",
    "- FSSLTDED and SHELDED are indicators of how much someone is paying for their home.\n",
    "- FSTOTDED & FSSTDDE2 are deductions relating to housing."
   ]
  },
  {
   "cell_type": "markdown",
   "metadata": {},
   "source": [
    "When looking at the final predictions on 2018 data (all three maps were created in QGIS):\n",
    "<img src=\"images/SNAP2018_yes.png\" />"
   ]
  },
  {
   "cell_type": "markdown",
   "metadata": {},
   "source": [
    "Compared to the top two impactful features within the dataset:\n",
    "<img src=\"images/SNAP2018_FSSLTDED.png\" />\n",
    "<img src=\"images/SNAP2018_Shelded.png\" />\n",
    "\n",
    "There indeed is a correlation with less housing assistance/forgiveness/deductions for housing allowances that do correspond to areas of higher SNAP use.  "
   ]
  },
  {
   "cell_type": "markdown",
   "metadata": {},
   "source": [
    "# Next Steps\n",
    "\n",
    "From here, I would like to do \n",
    "1. Further GIS analysis on HUD housing datasets showing access to housing options correlated with SNAP participants.  \n",
    "1. Then plot this information, along with the location of local food banks.\n",
    "1. To be distributed as a public dashboard among governments, charities and community activists to increase need to the areas that need it the most."
   ]
  },
  {
   "cell_type": "code",
   "execution_count": null,
   "metadata": {},
   "outputs": [],
   "source": []
  }
 ],
 "metadata": {
  "kernelspec": {
   "display_name": "Python 3",
   "language": "python",
   "name": "python3"
  },
  "language_info": {
   "codemirror_mode": {
    "name": "ipython",
    "version": 3
   },
   "file_extension": ".py",
   "mimetype": "text/x-python",
   "name": "python",
   "nbconvert_exporter": "python",
   "pygments_lexer": "ipython3",
   "version": "3.7.7"
  }
 },
 "nbformat": 4,
 "nbformat_minor": 4
}
